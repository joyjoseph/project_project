{
 "cells": [
  {
   "attachments": {},
   "cell_type": "markdown",
   "id": "3ec5258a",
   "metadata": {},
   "source": [
    "### IBM Employee attrition\n",
    "\n",
    "### Overview \n",
    "\n",
    "Employee attrition refers to the natural process of employees leaving an organization and needing to be replaced. Attrition can be voluntary, such as when an employee resigns or retires, or involuntary, such as when an employee is terminated or laid off.\n",
    "\n",
    "To manage attrition, organizations may implement strategies such as improving employee engagement and satisfaction, offering competitive compensation and benefits packages, providing opportunities for career development and advancement, and creating a positive work culture.\n"
   ]
  },
  {
   "cell_type": "code",
   "execution_count": 1,
   "id": "c0b9e1e0",
   "metadata": {},
   "outputs": [],
   "source": [
    "# importing libaries\n",
    "import sqlite3\n",
    "import pandas as pd\n",
    "import seaborn as sns\n",
    "import matplotlib.pyplot as plt\n",
    "from sklearn.preprocessing import LabelEncoder"
   ]
  },
  {
   "cell_type": "code",
   "execution_count": 2,
   "id": "5cf046a6",
   "metadata": {},
   "outputs": [],
   "source": [
    "# connecting to the database\n",
    "conn = sqlite3.connect('attr_data.db')"
   ]
  },
  {
   "cell_type": "code",
   "execution_count": 3,
   "id": "84f33916",
   "metadata": {},
   "outputs": [
    {
     "data": {
      "text/html": [
       "<div>\n",
       "<style scoped>\n",
       "    .dataframe tbody tr th:only-of-type {\n",
       "        vertical-align: middle;\n",
       "    }\n",
       "\n",
       "    .dataframe tbody tr th {\n",
       "        vertical-align: top;\n",
       "    }\n",
       "\n",
       "    .dataframe thead th {\n",
       "        text-align: right;\n",
       "    }\n",
       "</style>\n",
       "<table border=\"1\" class=\"dataframe\">\n",
       "  <thead>\n",
       "    <tr style=\"text-align: right;\">\n",
       "      <th></th>\n",
       "      <th>id</th>\n",
       "      <th>Age</th>\n",
       "      <th>Attrition</th>\n",
       "      <th>BusinessTravel</th>\n",
       "      <th>DailyRate</th>\n",
       "      <th>Department</th>\n",
       "      <th>DistanceFromHome</th>\n",
       "      <th>Education</th>\n",
       "      <th>EducationField</th>\n",
       "      <th>EmployeeCount</th>\n",
       "      <th>...</th>\n",
       "      <th>RelationshipSatisfaction</th>\n",
       "      <th>StandardHours</th>\n",
       "      <th>StockOptionLevel</th>\n",
       "      <th>TotalWorkingYears</th>\n",
       "      <th>TrainingTimesLastYear</th>\n",
       "      <th>WorkLifeBalance</th>\n",
       "      <th>YearsAtCompany</th>\n",
       "      <th>YearsInCurrentRole</th>\n",
       "      <th>YearsSinceLastPromotion</th>\n",
       "      <th>YearsWithCurrManager</th>\n",
       "    </tr>\n",
       "  </thead>\n",
       "  <tbody>\n",
       "    <tr>\n",
       "      <th>0</th>\n",
       "      <td>1</td>\n",
       "      <td>41</td>\n",
       "      <td>Yes</td>\n",
       "      <td>Travel_Rarely</td>\n",
       "      <td>1102</td>\n",
       "      <td>Sales</td>\n",
       "      <td>1</td>\n",
       "      <td>2</td>\n",
       "      <td>Life Sciences</td>\n",
       "      <td>1</td>\n",
       "      <td>...</td>\n",
       "      <td>1</td>\n",
       "      <td>80</td>\n",
       "      <td>0</td>\n",
       "      <td>8</td>\n",
       "      <td>0</td>\n",
       "      <td>1</td>\n",
       "      <td>6</td>\n",
       "      <td>4</td>\n",
       "      <td>0</td>\n",
       "      <td>5</td>\n",
       "    </tr>\n",
       "    <tr>\n",
       "      <th>1</th>\n",
       "      <td>2</td>\n",
       "      <td>49</td>\n",
       "      <td>No</td>\n",
       "      <td>Travel_Frequently</td>\n",
       "      <td>279</td>\n",
       "      <td>Research &amp; Development</td>\n",
       "      <td>8</td>\n",
       "      <td>1</td>\n",
       "      <td>Life Sciences</td>\n",
       "      <td>1</td>\n",
       "      <td>...</td>\n",
       "      <td>4</td>\n",
       "      <td>80</td>\n",
       "      <td>1</td>\n",
       "      <td>10</td>\n",
       "      <td>3</td>\n",
       "      <td>3</td>\n",
       "      <td>10</td>\n",
       "      <td>7</td>\n",
       "      <td>1</td>\n",
       "      <td>7</td>\n",
       "    </tr>\n",
       "    <tr>\n",
       "      <th>2</th>\n",
       "      <td>3</td>\n",
       "      <td>37</td>\n",
       "      <td>Yes</td>\n",
       "      <td>Travel_Rarely</td>\n",
       "      <td>1373</td>\n",
       "      <td>Research &amp; Development</td>\n",
       "      <td>2</td>\n",
       "      <td>2</td>\n",
       "      <td>Other</td>\n",
       "      <td>1</td>\n",
       "      <td>...</td>\n",
       "      <td>2</td>\n",
       "      <td>80</td>\n",
       "      <td>0</td>\n",
       "      <td>7</td>\n",
       "      <td>3</td>\n",
       "      <td>3</td>\n",
       "      <td>0</td>\n",
       "      <td>0</td>\n",
       "      <td>0</td>\n",
       "      <td>0</td>\n",
       "    </tr>\n",
       "    <tr>\n",
       "      <th>3</th>\n",
       "      <td>4</td>\n",
       "      <td>33</td>\n",
       "      <td>No</td>\n",
       "      <td>Travel_Frequently</td>\n",
       "      <td>1392</td>\n",
       "      <td>Research &amp; Development</td>\n",
       "      <td>3</td>\n",
       "      <td>4</td>\n",
       "      <td>Life Sciences</td>\n",
       "      <td>1</td>\n",
       "      <td>...</td>\n",
       "      <td>3</td>\n",
       "      <td>80</td>\n",
       "      <td>0</td>\n",
       "      <td>8</td>\n",
       "      <td>3</td>\n",
       "      <td>3</td>\n",
       "      <td>8</td>\n",
       "      <td>7</td>\n",
       "      <td>3</td>\n",
       "      <td>0</td>\n",
       "    </tr>\n",
       "    <tr>\n",
       "      <th>4</th>\n",
       "      <td>5</td>\n",
       "      <td>27</td>\n",
       "      <td>No</td>\n",
       "      <td>Travel_Rarely</td>\n",
       "      <td>591</td>\n",
       "      <td>Research &amp; Development</td>\n",
       "      <td>2</td>\n",
       "      <td>1</td>\n",
       "      <td>Medical</td>\n",
       "      <td>1</td>\n",
       "      <td>...</td>\n",
       "      <td>4</td>\n",
       "      <td>80</td>\n",
       "      <td>1</td>\n",
       "      <td>6</td>\n",
       "      <td>3</td>\n",
       "      <td>3</td>\n",
       "      <td>2</td>\n",
       "      <td>2</td>\n",
       "      <td>2</td>\n",
       "      <td>2</td>\n",
       "    </tr>\n",
       "    <tr>\n",
       "      <th>...</th>\n",
       "      <td>...</td>\n",
       "      <td>...</td>\n",
       "      <td>...</td>\n",
       "      <td>...</td>\n",
       "      <td>...</td>\n",
       "      <td>...</td>\n",
       "      <td>...</td>\n",
       "      <td>...</td>\n",
       "      <td>...</td>\n",
       "      <td>...</td>\n",
       "      <td>...</td>\n",
       "      <td>...</td>\n",
       "      <td>...</td>\n",
       "      <td>...</td>\n",
       "      <td>...</td>\n",
       "      <td>...</td>\n",
       "      <td>...</td>\n",
       "      <td>...</td>\n",
       "      <td>...</td>\n",
       "      <td>...</td>\n",
       "      <td>...</td>\n",
       "    </tr>\n",
       "    <tr>\n",
       "      <th>1465</th>\n",
       "      <td>1466</td>\n",
       "      <td>36</td>\n",
       "      <td>No</td>\n",
       "      <td>Travel_Frequently</td>\n",
       "      <td>884</td>\n",
       "      <td>Research &amp; Development</td>\n",
       "      <td>23</td>\n",
       "      <td>2</td>\n",
       "      <td>Medical</td>\n",
       "      <td>1</td>\n",
       "      <td>...</td>\n",
       "      <td>3</td>\n",
       "      <td>80</td>\n",
       "      <td>1</td>\n",
       "      <td>17</td>\n",
       "      <td>3</td>\n",
       "      <td>3</td>\n",
       "      <td>5</td>\n",
       "      <td>2</td>\n",
       "      <td>0</td>\n",
       "      <td>3</td>\n",
       "    </tr>\n",
       "    <tr>\n",
       "      <th>1466</th>\n",
       "      <td>1467</td>\n",
       "      <td>39</td>\n",
       "      <td>No</td>\n",
       "      <td>Travel_Rarely</td>\n",
       "      <td>613</td>\n",
       "      <td>Research &amp; Development</td>\n",
       "      <td>6</td>\n",
       "      <td>1</td>\n",
       "      <td>Medical</td>\n",
       "      <td>1</td>\n",
       "      <td>...</td>\n",
       "      <td>1</td>\n",
       "      <td>80</td>\n",
       "      <td>1</td>\n",
       "      <td>9</td>\n",
       "      <td>5</td>\n",
       "      <td>3</td>\n",
       "      <td>7</td>\n",
       "      <td>7</td>\n",
       "      <td>1</td>\n",
       "      <td>7</td>\n",
       "    </tr>\n",
       "    <tr>\n",
       "      <th>1467</th>\n",
       "      <td>1468</td>\n",
       "      <td>27</td>\n",
       "      <td>No</td>\n",
       "      <td>Travel_Rarely</td>\n",
       "      <td>155</td>\n",
       "      <td>Research &amp; Development</td>\n",
       "      <td>4</td>\n",
       "      <td>3</td>\n",
       "      <td>Life Sciences</td>\n",
       "      <td>1</td>\n",
       "      <td>...</td>\n",
       "      <td>2</td>\n",
       "      <td>80</td>\n",
       "      <td>1</td>\n",
       "      <td>6</td>\n",
       "      <td>0</td>\n",
       "      <td>3</td>\n",
       "      <td>6</td>\n",
       "      <td>2</td>\n",
       "      <td>0</td>\n",
       "      <td>3</td>\n",
       "    </tr>\n",
       "    <tr>\n",
       "      <th>1468</th>\n",
       "      <td>1469</td>\n",
       "      <td>49</td>\n",
       "      <td>No</td>\n",
       "      <td>Travel_Frequently</td>\n",
       "      <td>1023</td>\n",
       "      <td>Sales</td>\n",
       "      <td>2</td>\n",
       "      <td>3</td>\n",
       "      <td>Medical</td>\n",
       "      <td>1</td>\n",
       "      <td>...</td>\n",
       "      <td>4</td>\n",
       "      <td>80</td>\n",
       "      <td>0</td>\n",
       "      <td>17</td>\n",
       "      <td>3</td>\n",
       "      <td>2</td>\n",
       "      <td>9</td>\n",
       "      <td>6</td>\n",
       "      <td>0</td>\n",
       "      <td>8</td>\n",
       "    </tr>\n",
       "    <tr>\n",
       "      <th>1469</th>\n",
       "      <td>1470</td>\n",
       "      <td>34</td>\n",
       "      <td>No</td>\n",
       "      <td>Travel_Rarely</td>\n",
       "      <td>628</td>\n",
       "      <td>Research &amp; Development</td>\n",
       "      <td>8</td>\n",
       "      <td>3</td>\n",
       "      <td>Medical</td>\n",
       "      <td>1</td>\n",
       "      <td>...</td>\n",
       "      <td>1</td>\n",
       "      <td>80</td>\n",
       "      <td>0</td>\n",
       "      <td>6</td>\n",
       "      <td>3</td>\n",
       "      <td>4</td>\n",
       "      <td>4</td>\n",
       "      <td>3</td>\n",
       "      <td>1</td>\n",
       "      <td>2</td>\n",
       "    </tr>\n",
       "  </tbody>\n",
       "</table>\n",
       "<p>1470 rows × 36 columns</p>\n",
       "</div>"
      ],
      "text/plain": [
       "        id  Age Attrition     BusinessTravel  DailyRate  \\\n",
       "0        1   41       Yes      Travel_Rarely       1102   \n",
       "1        2   49        No  Travel_Frequently        279   \n",
       "2        3   37       Yes      Travel_Rarely       1373   \n",
       "3        4   33        No  Travel_Frequently       1392   \n",
       "4        5   27        No      Travel_Rarely        591   \n",
       "...    ...  ...       ...                ...        ...   \n",
       "1465  1466   36        No  Travel_Frequently        884   \n",
       "1466  1467   39        No      Travel_Rarely        613   \n",
       "1467  1468   27        No      Travel_Rarely        155   \n",
       "1468  1469   49        No  Travel_Frequently       1023   \n",
       "1469  1470   34        No      Travel_Rarely        628   \n",
       "\n",
       "                  Department  DistanceFromHome  Education EducationField  \\\n",
       "0                      Sales                 1          2  Life Sciences   \n",
       "1     Research & Development                 8          1  Life Sciences   \n",
       "2     Research & Development                 2          2          Other   \n",
       "3     Research & Development                 3          4  Life Sciences   \n",
       "4     Research & Development                 2          1        Medical   \n",
       "...                      ...               ...        ...            ...   \n",
       "1465  Research & Development                23          2        Medical   \n",
       "1466  Research & Development                 6          1        Medical   \n",
       "1467  Research & Development                 4          3  Life Sciences   \n",
       "1468                   Sales                 2          3        Medical   \n",
       "1469  Research & Development                 8          3        Medical   \n",
       "\n",
       "      EmployeeCount  ...  RelationshipSatisfaction  StandardHours  \\\n",
       "0                 1  ...                         1             80   \n",
       "1                 1  ...                         4             80   \n",
       "2                 1  ...                         2             80   \n",
       "3                 1  ...                         3             80   \n",
       "4                 1  ...                         4             80   \n",
       "...             ...  ...                       ...            ...   \n",
       "1465              1  ...                         3             80   \n",
       "1466              1  ...                         1             80   \n",
       "1467              1  ...                         2             80   \n",
       "1468              1  ...                         4             80   \n",
       "1469              1  ...                         1             80   \n",
       "\n",
       "     StockOptionLevel  TotalWorkingYears  TrainingTimesLastYear  \\\n",
       "0                   0                  8                      0   \n",
       "1                   1                 10                      3   \n",
       "2                   0                  7                      3   \n",
       "3                   0                  8                      3   \n",
       "4                   1                  6                      3   \n",
       "...               ...                ...                    ...   \n",
       "1465                1                 17                      3   \n",
       "1466                1                  9                      5   \n",
       "1467                1                  6                      0   \n",
       "1468                0                 17                      3   \n",
       "1469                0                  6                      3   \n",
       "\n",
       "      WorkLifeBalance YearsAtCompany  YearsInCurrentRole  \\\n",
       "0                   1              6                   4   \n",
       "1                   3             10                   7   \n",
       "2                   3              0                   0   \n",
       "3                   3              8                   7   \n",
       "4                   3              2                   2   \n",
       "...               ...            ...                 ...   \n",
       "1465                3              5                   2   \n",
       "1466                3              7                   7   \n",
       "1467                3              6                   2   \n",
       "1468                2              9                   6   \n",
       "1469                4              4                   3   \n",
       "\n",
       "     YearsSinceLastPromotion  YearsWithCurrManager  \n",
       "0                          0                     5  \n",
       "1                          1                     7  \n",
       "2                          0                     0  \n",
       "3                          3                     0  \n",
       "4                          2                     2  \n",
       "...                      ...                   ...  \n",
       "1465                       0                     3  \n",
       "1466                       1                     7  \n",
       "1467                       0                     3  \n",
       "1468                       0                     8  \n",
       "1469                       1                     2  \n",
       "\n",
       "[1470 rows x 36 columns]"
      ]
     },
     "execution_count": 3,
     "metadata": {},
     "output_type": "execute_result"
    }
   ],
   "source": [
    "# import and extract Data from the database\n",
    "df_demo = pd.read_sql('SELECT * FROM attrition_records', conn)\n",
    "df_demo"
   ]
  },
  {
   "cell_type": "code",
   "execution_count": 4,
   "id": "56db6476",
   "metadata": {},
   "outputs": [
    {
     "data": {
      "text/plain": [
       "Index(['id', 'Age', 'Attrition', 'BusinessTravel', 'DailyRate', 'Department',\n",
       "       'DistanceFromHome', 'Education', 'EducationField', 'EmployeeCount',\n",
       "       'EmployeeNumber', 'EnvironmentSatisfaction', 'Gender', 'HourlyRate',\n",
       "       'JobInvolvement', 'JobLevel', 'JobRole', 'JobSatisfaction',\n",
       "       'MaritalStatus', 'MonthlyIncome', 'MonthlyRate', 'NumCompaniesWorked',\n",
       "       'Over18', 'OverTime', 'PercentSalaryHike', 'PerformanceRating',\n",
       "       'RelationshipSatisfaction', 'StandardHours', 'StockOptionLevel',\n",
       "       'TotalWorkingYears', 'TrainingTimesLastYear', 'WorkLifeBalance',\n",
       "       'YearsAtCompany', 'YearsInCurrentRole', 'YearsSinceLastPromotion',\n",
       "       'YearsWithCurrManager'],\n",
       "      dtype='object')"
      ]
     },
     "execution_count": 4,
     "metadata": {},
     "output_type": "execute_result"
    }
   ],
   "source": [
    "# checking column names of the dataset\n",
    "df_demo.columns"
   ]
  },
  {
   "cell_type": "code",
   "execution_count": 5,
   "id": "1bcf91c2",
   "metadata": {},
   "outputs": [
    {
     "data": {
      "text/plain": [
       "id                           int64\n",
       "Age                          int64\n",
       "Attrition                   object\n",
       "BusinessTravel              object\n",
       "DailyRate                    int64\n",
       "Department                  object\n",
       "DistanceFromHome             int64\n",
       "Education                    int64\n",
       "EducationField              object\n",
       "EmployeeCount                int64\n",
       "EmployeeNumber               int64\n",
       "EnvironmentSatisfaction      int64\n",
       "Gender                      object\n",
       "HourlyRate                   int64\n",
       "JobInvolvement               int64\n",
       "JobLevel                     int64\n",
       "JobRole                     object\n",
       "JobSatisfaction              int64\n",
       "MaritalStatus               object\n",
       "MonthlyIncome                int64\n",
       "MonthlyRate                  int64\n",
       "NumCompaniesWorked           int64\n",
       "Over18                      object\n",
       "OverTime                    object\n",
       "PercentSalaryHike            int64\n",
       "PerformanceRating            int64\n",
       "RelationshipSatisfaction     int64\n",
       "StandardHours                int64\n",
       "StockOptionLevel             int64\n",
       "TotalWorkingYears            int64\n",
       "TrainingTimesLastYear        int64\n",
       "WorkLifeBalance              int64\n",
       "YearsAtCompany               int64\n",
       "YearsInCurrentRole           int64\n",
       "YearsSinceLastPromotion      int64\n",
       "YearsWithCurrManager         int64\n",
       "dtype: object"
      ]
     },
     "execution_count": 5,
     "metadata": {},
     "output_type": "execute_result"
    }
   ],
   "source": [
    "# checking for data types\n",
    "df_demo.dtypes"
   ]
  },
  {
   "attachments": {},
   "cell_type": "markdown",
   "id": "e95f3d62",
   "metadata": {},
   "source": [
    "INFERENCE:\n",
    "\n",
    "Our data maninly consists of integers and strings(object)"
   ]
  },
  {
   "cell_type": "code",
   "execution_count": 7,
   "id": "84f2751d",
   "metadata": {},
   "outputs": [
    {
     "name": "stdout",
     "output_type": "stream",
     "text": [
      "<class 'pandas.core.frame.DataFrame'>\n",
      "RangeIndex: 1470 entries, 0 to 1469\n",
      "Data columns (total 36 columns):\n",
      " #   Column                    Non-Null Count  Dtype \n",
      "---  ------                    --------------  ----- \n",
      " 0   id                        1470 non-null   int64 \n",
      " 1   Age                       1470 non-null   int64 \n",
      " 2   Attrition                 1470 non-null   object\n",
      " 3   BusinessTravel            1470 non-null   object\n",
      " 4   DailyRate                 1470 non-null   int64 \n",
      " 5   Department                1470 non-null   object\n",
      " 6   DistanceFromHome          1470 non-null   int64 \n",
      " 7   Education                 1470 non-null   int64 \n",
      " 8   EducationField            1470 non-null   object\n",
      " 9   EmployeeCount             1470 non-null   int64 \n",
      " 10  EmployeeNumber            1470 non-null   int64 \n",
      " 11  EnvironmentSatisfaction   1470 non-null   int64 \n",
      " 12  Gender                    1470 non-null   object\n",
      " 13  HourlyRate                1470 non-null   int64 \n",
      " 14  JobInvolvement            1470 non-null   int64 \n",
      " 15  JobLevel                  1470 non-null   int64 \n",
      " 16  JobRole                   1470 non-null   object\n",
      " 17  JobSatisfaction           1470 non-null   int64 \n",
      " 18  MaritalStatus             1470 non-null   object\n",
      " 19  MonthlyIncome             1470 non-null   int64 \n",
      " 20  MonthlyRate               1470 non-null   int64 \n",
      " 21  NumCompaniesWorked        1470 non-null   int64 \n",
      " 22  Over18                    1470 non-null   object\n",
      " 23  OverTime                  1470 non-null   object\n",
      " 24  PercentSalaryHike         1470 non-null   int64 \n",
      " 25  PerformanceRating         1470 non-null   int64 \n",
      " 26  RelationshipSatisfaction  1470 non-null   int64 \n",
      " 27  StandardHours             1470 non-null   int64 \n",
      " 28  StockOptionLevel          1470 non-null   int64 \n",
      " 29  TotalWorkingYears         1470 non-null   int64 \n",
      " 30  TrainingTimesLastYear     1470 non-null   int64 \n",
      " 31  WorkLifeBalance           1470 non-null   int64 \n",
      " 32  YearsAtCompany            1470 non-null   int64 \n",
      " 33  YearsInCurrentRole        1470 non-null   int64 \n",
      " 34  YearsSinceLastPromotion   1470 non-null   int64 \n",
      " 35  YearsWithCurrManager      1470 non-null   int64 \n",
      "dtypes: int64(27), object(9)\n",
      "memory usage: 413.6+ KB\n"
     ]
    }
   ],
   "source": [
    "# having information about the dataset\n",
    "df_demo.info()"
   ]
  },
  {
   "cell_type": "code",
   "execution_count": 8,
   "id": "cc38e0c2",
   "metadata": {},
   "outputs": [
    {
     "data": {
      "text/plain": [
       "(1470, 36)"
      ]
     },
     "execution_count": 8,
     "metadata": {},
     "output_type": "execute_result"
    }
   ],
   "source": [
    "# column and rows\n",
    "df_demo.shape"
   ]
  },
  {
   "attachments": {},
   "cell_type": "markdown",
   "id": "97e8eb27",
   "metadata": {},
   "source": [
    "INFERENCE:\n",
    "\n",
    "From the dataset, we have 1470 IBM Employees."
   ]
  },
  {
   "cell_type": "code",
   "execution_count": 10,
   "id": "fab4b47b",
   "metadata": {},
   "outputs": [
    {
     "data": {
      "text/plain": [
       "id                          1470\n",
       "Age                           43\n",
       "Attrition                      2\n",
       "BusinessTravel                 3\n",
       "DailyRate                    886\n",
       "Department                     3\n",
       "DistanceFromHome              29\n",
       "Education                      5\n",
       "EducationField                 6\n",
       "EmployeeCount                  1\n",
       "EmployeeNumber              1470\n",
       "EnvironmentSatisfaction        4\n",
       "Gender                         2\n",
       "HourlyRate                    71\n",
       "JobInvolvement                 4\n",
       "JobLevel                       5\n",
       "JobRole                        9\n",
       "JobSatisfaction                4\n",
       "MaritalStatus                  3\n",
       "MonthlyIncome               1349\n",
       "MonthlyRate                 1427\n",
       "NumCompaniesWorked            10\n",
       "Over18                         1\n",
       "OverTime                       2\n",
       "PercentSalaryHike             15\n",
       "PerformanceRating              2\n",
       "RelationshipSatisfaction       4\n",
       "StandardHours                  1\n",
       "StockOptionLevel               4\n",
       "TotalWorkingYears             40\n",
       "TrainingTimesLastYear          7\n",
       "WorkLifeBalance                4\n",
       "YearsAtCompany                37\n",
       "YearsInCurrentRole            19\n",
       "YearsSinceLastPromotion       16\n",
       "YearsWithCurrManager          18\n",
       "dtype: int64"
      ]
     },
     "execution_count": 10,
     "metadata": {},
     "output_type": "execute_result"
    }
   ],
   "source": [
    "# checking for number of unique values\n",
    "df_demo.nunique()"
   ]
  },
  {
   "cell_type": "code",
   "execution_count": 11,
   "id": "7beae034",
   "metadata": {},
   "outputs": [
    {
     "data": {
      "text/plain": [
       "id                          0\n",
       "Age                         0\n",
       "Attrition                   0\n",
       "BusinessTravel              0\n",
       "DailyRate                   0\n",
       "Department                  0\n",
       "DistanceFromHome            0\n",
       "Education                   0\n",
       "EducationField              0\n",
       "EmployeeCount               0\n",
       "EmployeeNumber              0\n",
       "EnvironmentSatisfaction     0\n",
       "Gender                      0\n",
       "HourlyRate                  0\n",
       "JobInvolvement              0\n",
       "JobLevel                    0\n",
       "JobRole                     0\n",
       "JobSatisfaction             0\n",
       "MaritalStatus               0\n",
       "MonthlyIncome               0\n",
       "MonthlyRate                 0\n",
       "NumCompaniesWorked          0\n",
       "Over18                      0\n",
       "OverTime                    0\n",
       "PercentSalaryHike           0\n",
       "PerformanceRating           0\n",
       "RelationshipSatisfaction    0\n",
       "StandardHours               0\n",
       "StockOptionLevel            0\n",
       "TotalWorkingYears           0\n",
       "TrainingTimesLastYear       0\n",
       "WorkLifeBalance             0\n",
       "YearsAtCompany              0\n",
       "YearsInCurrentRole          0\n",
       "YearsSinceLastPromotion     0\n",
       "YearsWithCurrManager        0\n",
       "dtype: int64"
      ]
     },
     "execution_count": 11,
     "metadata": {},
     "output_type": "execute_result"
    }
   ],
   "source": [
    "# checking for missing data \n",
    "df_demo.isna().sum()"
   ]
  },
  {
   "attachments": {},
   "cell_type": "markdown",
   "id": "b363296d",
   "metadata": {},
   "source": [
    "INFERENCE:\n",
    "\n",
    "From our analysis above, we see that there is no missing values from the dataset"
   ]
  },
  {
   "attachments": {},
   "cell_type": "markdown",
   "id": "b4bc2a11",
   "metadata": {},
   "source": [
    "### Data cleaning\n",
    "\n",
    "\n",
    "The 'ID' and will be dropped as they are are not useful\n",
    "\n"
   ]
  },
  {
   "cell_type": "code",
   "execution_count": 16,
   "id": "7b7d612d",
   "metadata": {},
   "outputs": [],
   "source": [
    "#Dropping columns \n",
    "columns = ['DailyRate',  'EmployeeCount', 'EmployeeNumber', 'HourlyRate', 'MonthlyRate',\n",
    "            'RelationshipSatisfaction', 'StandardHours']\n",
    "df_demo.drop(columns, inplace=True, axis=1)"
   ]
  },
  {
   "cell_type": "code",
   "execution_count": 19,
   "id": "3d09531e",
   "metadata": {},
   "outputs": [],
   "source": [
    "# dropping the ID column as it is not needed \n",
    "df_demo.drop(['id'], axis=1, inplace=True)"
   ]
  },
  {
   "attachments": {},
   "cell_type": "markdown",
   "id": "60597337",
   "metadata": {},
   "source": [
    "### EXPLORATORY DATA ANALYSIS"
   ]
  },
  {
   "cell_type": "code",
   "execution_count": 20,
   "id": "f7be9ab3",
   "metadata": {},
   "outputs": [
    {
     "data": {
      "text/html": [
       "<div>\n",
       "<style scoped>\n",
       "    .dataframe tbody tr th:only-of-type {\n",
       "        vertical-align: middle;\n",
       "    }\n",
       "\n",
       "    .dataframe tbody tr th {\n",
       "        vertical-align: top;\n",
       "    }\n",
       "\n",
       "    .dataframe thead th {\n",
       "        text-align: right;\n",
       "    }\n",
       "</style>\n",
       "<table border=\"1\" class=\"dataframe\">\n",
       "  <thead>\n",
       "    <tr style=\"text-align: right;\">\n",
       "      <th></th>\n",
       "      <th>Age</th>\n",
       "      <th>Attrition</th>\n",
       "      <th>BusinessTravel</th>\n",
       "      <th>Department</th>\n",
       "      <th>DistanceFromHome</th>\n",
       "      <th>Education</th>\n",
       "      <th>EducationField</th>\n",
       "      <th>EnvironmentSatisfaction</th>\n",
       "      <th>Gender</th>\n",
       "      <th>JobInvolvement</th>\n",
       "      <th>...</th>\n",
       "      <th>PercentSalaryHike</th>\n",
       "      <th>PerformanceRating</th>\n",
       "      <th>StockOptionLevel</th>\n",
       "      <th>TotalWorkingYears</th>\n",
       "      <th>TrainingTimesLastYear</th>\n",
       "      <th>WorkLifeBalance</th>\n",
       "      <th>YearsAtCompany</th>\n",
       "      <th>YearsInCurrentRole</th>\n",
       "      <th>YearsSinceLastPromotion</th>\n",
       "      <th>YearsWithCurrManager</th>\n",
       "    </tr>\n",
       "  </thead>\n",
       "  <tbody>\n",
       "    <tr>\n",
       "      <th>0</th>\n",
       "      <td>41</td>\n",
       "      <td>Yes</td>\n",
       "      <td>Travel_Rarely</td>\n",
       "      <td>Sales</td>\n",
       "      <td>1</td>\n",
       "      <td>2</td>\n",
       "      <td>Life Sciences</td>\n",
       "      <td>2</td>\n",
       "      <td>Female</td>\n",
       "      <td>3</td>\n",
       "      <td>...</td>\n",
       "      <td>11</td>\n",
       "      <td>3</td>\n",
       "      <td>0</td>\n",
       "      <td>8</td>\n",
       "      <td>0</td>\n",
       "      <td>1</td>\n",
       "      <td>6</td>\n",
       "      <td>4</td>\n",
       "      <td>0</td>\n",
       "      <td>5</td>\n",
       "    </tr>\n",
       "    <tr>\n",
       "      <th>1</th>\n",
       "      <td>49</td>\n",
       "      <td>No</td>\n",
       "      <td>Travel_Frequently</td>\n",
       "      <td>Research &amp; Development</td>\n",
       "      <td>8</td>\n",
       "      <td>1</td>\n",
       "      <td>Life Sciences</td>\n",
       "      <td>3</td>\n",
       "      <td>Male</td>\n",
       "      <td>2</td>\n",
       "      <td>...</td>\n",
       "      <td>23</td>\n",
       "      <td>4</td>\n",
       "      <td>1</td>\n",
       "      <td>10</td>\n",
       "      <td>3</td>\n",
       "      <td>3</td>\n",
       "      <td>10</td>\n",
       "      <td>7</td>\n",
       "      <td>1</td>\n",
       "      <td>7</td>\n",
       "    </tr>\n",
       "    <tr>\n",
       "      <th>2</th>\n",
       "      <td>37</td>\n",
       "      <td>Yes</td>\n",
       "      <td>Travel_Rarely</td>\n",
       "      <td>Research &amp; Development</td>\n",
       "      <td>2</td>\n",
       "      <td>2</td>\n",
       "      <td>Other</td>\n",
       "      <td>4</td>\n",
       "      <td>Male</td>\n",
       "      <td>2</td>\n",
       "      <td>...</td>\n",
       "      <td>15</td>\n",
       "      <td>3</td>\n",
       "      <td>0</td>\n",
       "      <td>7</td>\n",
       "      <td>3</td>\n",
       "      <td>3</td>\n",
       "      <td>0</td>\n",
       "      <td>0</td>\n",
       "      <td>0</td>\n",
       "      <td>0</td>\n",
       "    </tr>\n",
       "    <tr>\n",
       "      <th>3</th>\n",
       "      <td>33</td>\n",
       "      <td>No</td>\n",
       "      <td>Travel_Frequently</td>\n",
       "      <td>Research &amp; Development</td>\n",
       "      <td>3</td>\n",
       "      <td>4</td>\n",
       "      <td>Life Sciences</td>\n",
       "      <td>4</td>\n",
       "      <td>Female</td>\n",
       "      <td>3</td>\n",
       "      <td>...</td>\n",
       "      <td>11</td>\n",
       "      <td>3</td>\n",
       "      <td>0</td>\n",
       "      <td>8</td>\n",
       "      <td>3</td>\n",
       "      <td>3</td>\n",
       "      <td>8</td>\n",
       "      <td>7</td>\n",
       "      <td>3</td>\n",
       "      <td>0</td>\n",
       "    </tr>\n",
       "    <tr>\n",
       "      <th>4</th>\n",
       "      <td>27</td>\n",
       "      <td>No</td>\n",
       "      <td>Travel_Rarely</td>\n",
       "      <td>Research &amp; Development</td>\n",
       "      <td>2</td>\n",
       "      <td>1</td>\n",
       "      <td>Medical</td>\n",
       "      <td>1</td>\n",
       "      <td>Male</td>\n",
       "      <td>3</td>\n",
       "      <td>...</td>\n",
       "      <td>12</td>\n",
       "      <td>3</td>\n",
       "      <td>1</td>\n",
       "      <td>6</td>\n",
       "      <td>3</td>\n",
       "      <td>3</td>\n",
       "      <td>2</td>\n",
       "      <td>2</td>\n",
       "      <td>2</td>\n",
       "      <td>2</td>\n",
       "    </tr>\n",
       "  </tbody>\n",
       "</table>\n",
       "<p>5 rows × 28 columns</p>\n",
       "</div>"
      ],
      "text/plain": [
       "   Age Attrition     BusinessTravel              Department  DistanceFromHome  \\\n",
       "0   41       Yes      Travel_Rarely                   Sales                 1   \n",
       "1   49        No  Travel_Frequently  Research & Development                 8   \n",
       "2   37       Yes      Travel_Rarely  Research & Development                 2   \n",
       "3   33        No  Travel_Frequently  Research & Development                 3   \n",
       "4   27        No      Travel_Rarely  Research & Development                 2   \n",
       "\n",
       "   Education EducationField  EnvironmentSatisfaction  Gender  JobInvolvement  \\\n",
       "0          2  Life Sciences                        2  Female               3   \n",
       "1          1  Life Sciences                        3    Male               2   \n",
       "2          2          Other                        4    Male               2   \n",
       "3          4  Life Sciences                        4  Female               3   \n",
       "4          1        Medical                        1    Male               3   \n",
       "\n",
       "   ...  PercentSalaryHike PerformanceRating  StockOptionLevel  \\\n",
       "0  ...                 11                 3                 0   \n",
       "1  ...                 23                 4                 1   \n",
       "2  ...                 15                 3                 0   \n",
       "3  ...                 11                 3                 0   \n",
       "4  ...                 12                 3                 1   \n",
       "\n",
       "  TotalWorkingYears  TrainingTimesLastYear  WorkLifeBalance YearsAtCompany  \\\n",
       "0                 8                      0                1              6   \n",
       "1                10                      3                3             10   \n",
       "2                 7                      3                3              0   \n",
       "3                 8                      3                3              8   \n",
       "4                 6                      3                3              2   \n",
       "\n",
       "  YearsInCurrentRole  YearsSinceLastPromotion  YearsWithCurrManager  \n",
       "0                  4                        0                     5  \n",
       "1                  7                        1                     7  \n",
       "2                  0                        0                     0  \n",
       "3                  7                        3                     0  \n",
       "4                  2                        2                     2  \n",
       "\n",
       "[5 rows x 28 columns]"
      ]
     },
     "execution_count": 20,
     "metadata": {},
     "output_type": "execute_result"
    }
   ],
   "source": [
    "# checking for the first 5 dataset\n",
    "df_demo.head()"
   ]
  },
  {
   "cell_type": "code",
   "execution_count": 14,
   "id": "b0beb677",
   "metadata": {},
   "outputs": [
    {
     "data": {
      "text/plain": [
       "No     1233\n",
       "Yes     237\n",
       "Name: Attrition, dtype: int64"
      ]
     },
     "execution_count": 14,
     "metadata": {},
     "output_type": "execute_result"
    }
   ],
   "source": [
    "# value counts for Attrition feature\n",
    "df_demo['Attrition'].value_counts()"
   ]
  },
  {
   "cell_type": "code",
   "execution_count": 15,
   "id": "dd1c1d68",
   "metadata": {},
   "outputs": [
    {
     "data": {
      "text/plain": [
       "<AxesSubplot:>"
      ]
     },
     "execution_count": 15,
     "metadata": {},
     "output_type": "execute_result"
    },
    {
     "data": {
      "image/png": "[encoded data removed]",
      "text/plain": [
       "<Figure size 432x288 with 1 Axes>"
      ]
     },
     "metadata": {
      "needs_background": "light"
     },
     "output_type": "display_data"
    }
   ],
   "source": [
    "# plotting the Attrition feature\n",
    "df_demo['Attrition'].value_counts().plot.bar()"
   ]
  },
  {
   "attachments": {},
   "cell_type": "markdown",
   "id": "45a63bb4",
   "metadata": {},
   "source": [
    "INFERENCE:\n",
    "\n",
    "From the above bar plot, we see that out of 1470 IBM EMPLOYEES, 237 EMPLOYEES left while 1233 stayed."
   ]
  },
  {
   "cell_type": "code",
   "execution_count": 21,
   "id": "4c46f77c",
   "metadata": {},
   "outputs": [
    {
     "data": {
      "text/plain": [
       "Text(0.5, 1.0, 'Distribution of Employee Attrition')"
      ]
     },
     "execution_count": 21,
     "metadata": {},
     "output_type": "execute_result"
    },
    {
     "data": {
      "image/png": "[encoded data removed]",
      "text/plain": [
       "<Figure size 720x720 with 1 Axes>"
      ]
     },
     "metadata": {},
     "output_type": "display_data"
    }
   ],
   "source": [
    "# plotting a Distribution to check the attrition rate\n",
    "plt.figure(figsize=(10,10))\n",
    "plt.pie(x=[237, 1233], labels=['Leave','Stayed'], autopct='%1.0f%%', pctdistance=0.5,labeldistance=0.7,colors=['r','b'])\n",
    "plt.title('Distribution of Employee Attrition')"
   ]
  },
  {
   "attachments": {},
   "cell_type": "markdown",
   "id": "84a247fb",
   "metadata": {},
   "source": [
    "### INFERENCE\n",
    "\n",
    "As shown above, the leaving probability of the sample is 16%. What this means is that, 84% of IBM Employee will not leave, while 16% IBM Employee will leave."
   ]
  },
  {
   "cell_type": "code",
   "execution_count": 23,
   "id": "f5d1cde5",
   "metadata": {},
   "outputs": [
    {
     "name": "stdout",
     "output_type": "stream",
     "text": [
      "<class 'pandas.core.frame.DataFrame'>\n",
      "RangeIndex: 1470 entries, 0 to 1469\n",
      "Data columns (total 28 columns):\n",
      " #   Column                   Non-Null Count  Dtype \n",
      "---  ------                   --------------  ----- \n",
      " 0   Age                      1470 non-null   int64 \n",
      " 1   Attrition                1470 non-null   object\n",
      " 2   BusinessTravel           1470 non-null   object\n",
      " 3   Department               1470 non-null   object\n",
      " 4   DistanceFromHome         1470 non-null   int64 \n",
      " 5   Education                1470 non-null   int64 \n",
      " 6   EducationField           1470 non-null   object\n",
      " 7   EnvironmentSatisfaction  1470 non-null   int64 \n",
      " 8   Gender                   1470 non-null   object\n",
      " 9   JobInvolvement           1470 non-null   int64 \n",
      " 10  JobLevel                 1470 non-null   int64 \n",
      " 11  JobRole                  1470 non-null   object\n",
      " 12  JobSatisfaction          1470 non-null   int64 \n",
      " 13  MaritalStatus            1470 non-null   object\n",
      " 14  MonthlyIncome            1470 non-null   int64 \n",
      " 15  NumCompaniesWorked       1470 non-null   int64 \n",
      " 16  Over18                   1470 non-null   object\n",
      " 17  OverTime                 1470 non-null   object\n",
      " 18  PercentSalaryHike        1470 non-null   int64 \n",
      " 19  PerformanceRating        1470 non-null   int64 \n",
      " 20  StockOptionLevel         1470 non-null   int64 \n",
      " 21  TotalWorkingYears        1470 non-null   int64 \n",
      " 22  TrainingTimesLastYear    1470 non-null   int64 \n",
      " 23  WorkLifeBalance          1470 non-null   int64 \n",
      " 24  YearsAtCompany           1470 non-null   int64 \n",
      " 25  YearsInCurrentRole       1470 non-null   int64 \n",
      " 26  YearsSinceLastPromotion  1470 non-null   int64 \n",
      " 27  YearsWithCurrManager     1470 non-null   int64 \n",
      "dtypes: int64(19), object(9)\n",
      "memory usage: 321.7+ KB\n"
     ]
    }
   ],
   "source": [
    "df_demo.info()"
   ]
  },
  {
   "attachments": {},
   "cell_type": "markdown",
   "id": "280bd159",
   "metadata": {},
   "source": [
    "### Visualizing Categorical Features\n",
    "\n",
    "1. BusinessTravel\n",
    "\n",
    "2. Department\n",
    "\n",
    "3. EducationField\n",
    "\n",
    "4. Gender\n",
    "\n",
    "5. JobRole \n",
    "\n",
    "6. MaritalStatus\n",
    "\n",
    "7. Over18\n",
    "\n",
    "8. OverTime"
   ]
  },
  {
   "cell_type": "code",
   "execution_count": 24,
   "id": "7642356a",
   "metadata": {},
   "outputs": [
    {
     "data": {
      "text/plain": [
       "Travel_Rarely        1043\n",
       "Travel_Frequently     277\n",
       "Non-Travel            150\n",
       "Name: BusinessTravel, dtype: int64"
      ]
     },
     "execution_count": 24,
     "metadata": {},
     "output_type": "execute_result"
    }
   ],
   "source": [
    "# value counts 0n BusinessTravel\n",
    "df_demo['BusinessTravel'].value_counts()"
   ]
  },
  {
   "cell_type": "code",
   "execution_count": 25,
   "id": "abe6e58f",
   "metadata": {},
   "outputs": [
    {
     "data": {
      "text/plain": [
       "Y    1470\n",
       "Name: Over18, dtype: int64"
      ]
     },
     "execution_count": 25,
     "metadata": {},
     "output_type": "execute_result"
    }
   ],
   "source": [
    "# value counts 0n BusinessTravel\n",
    "df_demo['Over18'].value_counts()"
   ]
  },
  {
   "cell_type": "code",
   "execution_count": 26,
   "id": "d82b8c17",
   "metadata": {},
   "outputs": [
    {
     "data": {
      "text/plain": [
       "[Text(0.5, 0, 'Education Field'), Text(0, 0.5, 'Frequency of Education Field')]"
      ]
     },
     "execution_count": 26,
     "metadata": {},
     "output_type": "execute_result"
    },
    {
     "data": {
      "image/png": "[encoded data removed]",
      "text/plain": [
       "<Figure size 1296x432 with 3 Axes>"
      ]
     },
     "metadata": {
      "needs_background": "light"
     },
     "output_type": "display_data"
    }
   ],
   "source": [
    "# plotting Histogram for BusinessTravel, Department & EducationField\n",
    "plt.figure(figsize=(18, 6))\n",
    "\n",
    "plt.subplot(1,3,1)\n",
    "plt1 = df_demo.BusinessTravel.value_counts().plot(kind='bar')\n",
    "plt.title('BusinessTravel Histogram')\n",
    "plt1.set(xlabel = 'Business Travel', ylabel='Frequency of Business Travel')\n",
    "\n",
    "plt.subplot(1,3,2)\n",
    "plt1 = df_demo.Department.value_counts().plot(kind='bar')\n",
    "plt.title('Department Histogram')\n",
    "plt1.set(xlabel = 'Department', ylabel='Frequency of Department')\n",
    "\n",
    "plt.subplot(1,3,3)\n",
    "plt1 = df_demo.EducationField.value_counts().plot(kind='bar')\n",
    "plt.title('Education Field Histogram')\n",
    "plt1.set(xlabel = 'Education Field', ylabel='Frequency of Education Field')"
   ]
  },
  {
   "attachments": {},
   "cell_type": "markdown",
   "id": "aab15511",
   "metadata": {},
   "source": [
    "### Inference:\n",
    "\n",
    "From the BusinessTravel Features, Employee who Travel_Rarely is more, than those who Travel_Frequently compared to Non-Travel Employee. \n",
    "\n",
    "From the Department Features, Employee who are in the Research & Development Department is more, compared to those in Sales Department and Human Resource Department. \n",
    "\n",
    "From the Education Field Features. It can be inferred that: The Employee in the dataset belong more to Life Sciences and Medical Education Field, compared to others."
   ]
  },
  {
   "cell_type": "code",
   "execution_count": 27,
   "id": "336454d3",
   "metadata": {},
   "outputs": [
    {
     "data": {
      "text/plain": [
       "[Text(0.5, 0, 'Marital Status Field'),\n",
       " Text(0, 0.5, 'Frequency of Marital Status')]"
      ]
     },
     "execution_count": 27,
     "metadata": {},
     "output_type": "execute_result"
    },
    {
     "data": {
      "image/png": "[encoded data removed]",
      "text/plain": [
       "<Figure size 1296x432 with 3 Axes>"
      ]
     },
     "metadata": {
      "needs_background": "light"
     },
     "output_type": "display_data"
    }
   ],
   "source": [
    "# plotting Histogram for Gender, JobRole & MaritalStatus\n",
    "plt.figure(figsize=(18, 6))\n",
    "\n",
    "plt.subplot(1,3,1)\n",
    "plt1 = df_demo.Gender.value_counts().plot(kind='bar')\n",
    "plt.title('Gender Histogram')\n",
    "plt1.set(xlabel = 'Gender', ylabel='Frequency of Gender')\n",
    "\n",
    "plt.subplot(1,3,2)\n",
    "plt1 = df_demo.JobRole.value_counts().plot(kind='bar')\n",
    "plt.title('JobRole Histogram')\n",
    "plt1.set(xlabel = 'Job Role', ylabel='Frequency of Job Role')\n",
    "\n",
    "plt.subplot(1,3,3)\n",
    "plt1 = df_demo.MaritalStatus.value_counts().plot(kind='bar')\n",
    "plt.title('Marital Status Field Histogram')\n",
    "plt1.set(xlabel = 'Marital Status Field', ylabel='Frequency of Marital Status')"
   ]
  },
  {
   "attachments": {},
   "cell_type": "markdown",
   "id": "77fe0299",
   "metadata": {},
   "source": [
    "### Inference:\n",
    "\n",
    "From the Gender Features, Employee who are Male is more, than those who are Female Employees.\n",
    "\n",
    "From the Job Role Features, Employee who are Sales Executive, Research Scientist & Laborative Technicians are more compared to those in other Job Role. \n",
    "\n",
    "From the Maritial Status Field Features. It can be inferred that: The IBM Employee are more of Married category, single, compared to Divorced."
   ]
  },
  {
   "cell_type": "code",
   "execution_count": 28,
   "id": "a2fa95ec",
   "metadata": {},
   "outputs": [
    {
     "data": {
      "text/plain": [
       "[Text(0.5, 0, 'Over Time'), Text(0, 0.5, 'Frequency of  OverTime')]"
      ]
     },
     "execution_count": 28,
     "metadata": {},
     "output_type": "execute_result"
    },
    {
     "data": {
      "image/png": "[encoded data removed]",
      "text/plain": [
       "<Figure size 1296x432 with 2 Axes>"
      ]
     },
     "metadata": {
      "needs_background": "light"
     },
     "output_type": "display_data"
    }
   ],
   "source": [
    "# plotting Histogram for Over18 & OverTime \n",
    "plt.figure(figsize=(18, 6))\n",
    "\n",
    "plt.subplot(1,2,1)\n",
    "plt1 = df_demo.Over18.value_counts().plot(kind='bar')\n",
    "plt.title('Over18 Histogram')\n",
    "plt1.set(xlabel = 'Over18', ylabel='Frequency of Over18')\n",
    "\n",
    "plt.subplot(1,2,2)\n",
    "plt1 = df_demo.OverTime.value_counts().plot(kind='bar')\n",
    "plt.title('OverTime Histogram')\n",
    "plt1.set(xlabel = 'Over Time', ylabel='Frequency of  OverTime')"
   ]
  },
  {
   "attachments": {},
   "cell_type": "markdown",
   "id": "d27fab59",
   "metadata": {},
   "source": [
    "### Inference:\n",
    "\n",
    "From the Over18 Features, all Employee are over18.\n",
    "\n",
    "From the Over Time Features, Employee who do not work Over-time is more compared to Employees who over-time"
   ]
  },
  {
   "cell_type": "code",
   "execution_count": 29,
   "id": "9a21a826",
   "metadata": {},
   "outputs": [
    {
     "data": {
      "text/plain": [
       "([], [])"
      ]
     },
     "execution_count": 29,
     "metadata": {},
     "output_type": "execute_result"
    },
    {
     "data": {
      "image/png": "[encoded data removed]",
      "text/plain": [
       "<Figure size 1296x360 with 3 Axes>"
      ]
     },
     "metadata": {
      "needs_background": "light"
     },
     "output_type": "display_data"
    }
   ],
   "source": [
    "# making a plot for BusinessTravel, Department, Over18 feature and comparing it to Attrition feature\n",
    "plt.figure(figsize=(18,5))\n",
    "\n",
    "plt.subplot(1,3,1)\n",
    "sns.countplot(x='BusinessTravel' ,hue='Attrition', data=df_demo,palette='plasma')\n",
    "\n",
    "plt.subplot(1,3,2)\n",
    "sns.countplot(x='Department',hue='Attrition',data=df_demo,palette='viridis')\n",
    "plt.ylabel(' ')\n",
    "plt.yticks([ ])\n",
    "\n",
    "plt.subplot(1,3,3)\n",
    "sns.countplot(x='Over18',hue='Attrition',data=df_demo,palette='copper')\n",
    "plt.ylabel(' ')\n",
    "plt.yticks([ ])"
   ]
  },
  {
   "attachments": {},
   "cell_type": "markdown",
   "id": "68d6d529",
   "metadata": {},
   "source": [
    "### Inference:\n",
    "\n",
    "Making Comparism from Business Travel Feature, it shows that Employees who Rarely make business Travel have higher probablity of Leaving than Employees who frequently make business travel and Non-Business Travel.\n",
    "\n",
    "Checking the results of Department Features, it shows that, Employees who belong to the Research & Development Department, compared to those in Sales and Human Resources.\n",
    "\n",
    "Checking the results of Over18, it Shows that, since all Employess are Over18, few people leave."
   ]
  },
  {
   "cell_type": "code",
   "execution_count": 30,
   "id": "45d7175f",
   "metadata": {},
   "outputs": [
    {
     "data": {
      "text/plain": [
       "([], [])"
      ]
     },
     "execution_count": 30,
     "metadata": {},
     "output_type": "execute_result"
    },
    {
     "data": {
      "image/png": "[encoded data removed]",
      "text/plain": [
       "<Figure size 1296x360 with 3 Axes>"
      ]
     },
     "metadata": {
      "needs_background": "light"
     },
     "output_type": "display_data"
    }
   ],
   "source": [
    "# making a plot for Gender, OverTime, MaritalStatus feature and comparing it to Attrition feature\n",
    "plt.figure(figsize=(18,5))\n",
    "\n",
    "plt.subplot(1,3,1)\n",
    "sns.countplot(x='Gender' ,hue='Attrition', data=df_demo,palette='plasma')\n",
    "\n",
    "plt.subplot(1,3,2)\n",
    "sns.countplot(x='OverTime',hue='Attrition',data=df_demo,palette='viridis')\n",
    "plt.ylabel(' ')\n",
    "plt.yticks([ ])\n",
    "\n",
    "plt.subplot(1,3,3)\n",
    "sns.countplot(x='MaritalStatus',hue='Attrition',data=df_demo,palette='copper')\n",
    "plt.ylabel(' ')\n",
    "plt.yticks([ ])"
   ]
  },
  {
   "attachments": {},
   "cell_type": "markdown",
   "id": "5a9fd501",
   "metadata": {},
   "source": [
    "### Inference:\n",
    "\n",
    "Making Comparism between Gender shows that Employees who are Female have higher probablity of Leaving than the Male Employees.\n",
    "\n",
    "Checking the results of OverTime Features, it shows that, Employees who do not work over-time tend not to leave compared to those work over-time.\n",
    "\n",
    "Checking the results of Marrital Status Categories, it Shows that, Single and Divorced Employees tend to leave compared to those who are Married. "
   ]
  },
  {
   "attachments": {},
   "cell_type": "markdown",
   "id": "f79b8985",
   "metadata": {},
   "source": [
    "### 1. What is the effect of age on attrition?"
   ]
  },
  {
   "cell_type": "code",
   "execution_count": 31,
   "id": "88575757",
   "metadata": {},
   "outputs": [
    {
     "data": {
      "image/png": "[encoded data removed]",
      "text/plain": [
       "<Figure size 432x288 with 1 Axes>"
      ]
     },
     "metadata": {
      "needs_background": "light"
     },
     "output_type": "display_data"
    }
   ],
   "source": [
    "# ploting the age feature\n",
    "df_demo['Age'].hist();"
   ]
  },
  {
   "attachments": {},
   "cell_type": "markdown",
   "id": "1084a2bb",
   "metadata": {},
   "source": [
    "### Inference:\n",
    "\n",
    "Checking the results of the Age of Employees, it Shows that, it is shown from the unique opreration that all Employess are Over18. This means no Employee falls below 18 years of Age.\n",
    "\n",
    "We can see from the histogram plot,that Employee are between Age 18 - 60."
   ]
  },
  {
   "cell_type": "code",
   "execution_count": 32,
   "id": "2fbb34c9",
   "metadata": {},
   "outputs": [
    {
     "data": {
      "text/plain": [
       "Text(0.5, 1.0, 'Employee Attrition by Age')"
      ]
     },
     "execution_count": 32,
     "metadata": {},
     "output_type": "execute_result"
    },
    {
     "data": {
      "image/png": "[encoded data removed]",
      "text/plain": [
       "<Figure size 1296x288 with 1 Axes>"
      ]
     },
     "metadata": {
      "needs_background": "light"
     },
     "output_type": "display_data"
    }
   ],
   "source": [
    "# Employees Attrition vs Age \n",
    "plt.figure(figsize=(18,4))\n",
    "plt.xticks(rotation=90)\n",
    "ax = sns.countplot(x=df_demo.Age, hue=df_demo.Attrition)\n",
    "ax.set_title(\"Employee Attrition by Age\")"
   ]
  },
  {
   "attachments": {},
   "cell_type": "markdown",
   "id": "2fc4b7ac",
   "metadata": {},
   "source": [
    "### Inference:\n",
    "\n",
    "The summary statistics shows that the records of Employee Attrition have people who are 60 years of age, however, more people are between the age of 27 and 45.\n",
    "\n",
    "The effect of age on attrition is that as Employees age increase(as they get older) they are likely not to leave. "
   ]
  }
 ],
 "metadata": {
  "kernelspec": {
   "display_name": "Python 3",
   "language": "python",
   "name": "python3"
  },
  "language_info": {
   "codemirror_mode": {
    "name": "ipython",
    "version": 3
   },
   "file_extension": ".py",
   "mimetype": "text/x-python",
   "name": "python",
   "nbconvert_exporter": "python",
   "pygments_lexer": "ipython3",
   "version": "3.9.7"
  }
 },
 "nbformat": 4,
 "nbformat_minor": 5
}
